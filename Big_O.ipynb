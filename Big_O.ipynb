{
 "cells": [
  {
   "cell_type": "markdown",
   "id": "3407e46f-e2ea-48aa-abd9-077b5393562f",
   "metadata": {},
   "source": [
    "### <font color='289C4E'>Table of contents<font><a class='anchor' id='top'></a>\n",
    "- [Big-O](#1)\n",
    "- [Sorting Algorithms](#2)\n",
    "    - [$O(n^2)$ Algorithms](#2.1)\n",
    "    - [$O$($n$ log $n$) Algorithms](#2.2)\n",
    "- [Method Answers](#3)\n",
    "- Exercises\n",
    "    - [execute_bubble_sort]()\n",
    "    - [execute_selection_sort]()\n",
    "    - [execute_insertion_sort]()\n",
    "    - [execute_merge_sort]()\n",
    "    - [execute_quick_sort]()"
   ]
  },
  {
   "cell_type": "markdown",
   "id": "f2886140-95da-47c9-81e8-51d93e3f4859",
   "metadata": {},
   "source": [
    "### Big-O \n",
    "Big-O notation is mathematical notation that is used to classify algorithms according to how their runtime or space requirements grow as their input size grows.\n",
    "<img src=\"./resources/big_o/big_o_graph.png\"  width=\"70%\" height=\"70%\"><img src=\"./resources/big_o/big_o_complexity.png\"  width=\"30%\">\n"
   ]
  },
  {
   "cell_type": "markdown",
   "id": "57e7ac09-bb77-47ab-aa69-77bb5f986ab9",
   "metadata": {},
   "source": [
    "### Sorting Algorithms\n",
    "The best way to learn about Big-O is through sorting algorithms."
   ]
  },
  {
   "cell_type": "code",
   "execution_count": 1,
   "id": "f1c1620d-fa5c-452e-9940-7ae8da9525df",
   "metadata": {
    "tags": []
   },
   "outputs": [],
   "source": [
    "# preparation\n",
    "nums = [1,3,8,6,2,9,5,7,4]\n",
    "nums_sorted = [1,2,3,4,5,6,7,8,9]"
   ]
  },
  {
   "cell_type": "markdown",
   "id": "6983daae-7f38-4b20-9e88-f3bea1b1226b",
   "metadata": {},
   "source": [
    "$O(n^2)$ Algorithms (Bubble, Selection, Insertion Sort)"
   ]
  },
  {
   "cell_type": "code",
   "execution_count": 62,
   "id": "bae96e79-8997-4a62-9230-c39ccb9ac4cb",
   "metadata": {},
   "outputs": [],
   "source": [
    "def execute_bubble_sort(arr):\n",
    "    \"\"\"\n",
    "    swaps adjacent elements repeatedly if they are in wrong order\n",
    "    \"\"\"\n",
    "    # implementation here\n",
    "    \n",
    "def execute_selection_sort(arr):\n",
    "    \"\"\"\n",
    "    finds the next minimum element and put in right order\n",
    "    \"\"\"\n",
    "    # implementation here\n",
    "    \n",
    "def execute_insertion_sort(arr):\n",
    "    \"\"\"\n",
    "    builds the final sorted array (or list) one item at a time by comparisons\n",
    "    \"\"\"\n",
    "    # implementation here"
   ]
  },
  {
   "cell_type": "code",
   "execution_count": null,
   "id": "1c49654a-f661-4719-83b1-47cd81930b92",
   "metadata": {
    "tags": []
   },
   "outputs": [],
   "source": [
    "# run this cell to test above O(n^2) algorithms\n",
    "nums_bubbled = execute_bubble_sort(nums)\n",
    "nums_selected = execute_selection_sort(nums)\n",
    "nums_inserted = execute_insertion_sort(nums)\n",
    "\n",
    "assert nums_bubbled == nums_sorted\n",
    "assert nums_selected == nums_sorted\n",
    "assert nums_inserted == nums_sorted"
   ]
  },
  {
   "cell_type": "markdown",
   "id": "608fd0cf-7adc-4e9d-95dd-9ed6672839ab",
   "metadata": {},
   "source": [
    "$O$($n$ log $n$) Algorithms (Merge, Quick Sort)"
   ]
  },
  {
   "cell_type": "code",
   "execution_count": null,
   "id": "fccbddf1-26be-46a1-9153-7cb7ef2edccc",
   "metadata": {},
   "outputs": [],
   "source": [
    "def execute_merge_sort(arr):\n",
    "    \"\"\"\n",
    "    Divide and Conquer. Divides the array into halves iteratively\n",
    "    \"\"\""
   ]
  },
  {
   "cell_type": "code",
   "execution_count": null,
   "id": "47adb307-b2df-4b8b-b906-b61bd738a1a6",
   "metadata": {},
   "outputs": [],
   "source": [
    "# run this cell to test above merge_sort\n",
    "nums_merge_sorted = execute_merge_sort(arr)\n",
    "assert nums_merge_sorted == nums_sorted"
   ]
  },
  {
   "cell_type": "code",
   "execution_count": 65,
   "id": "1e9df895-e4d7-477c-b913-b43b16b0de82",
   "metadata": {
    "tags": []
   },
   "outputs": [],
   "source": [
    "def execute_quick_sort(arr):\n",
    "    \"\"\"\n",
    "    Picks a pivot element & partitions the array around the picked pivot\n",
    "    \"\"\""
   ]
  },
  {
   "cell_type": "code",
   "execution_count": null,
   "id": "948314a0-1d64-416c-8d60-bdddc432cdce",
   "metadata": {},
   "outputs": [],
   "source": [
    "# run this cell to test above quick_sort\n",
    "nums_quick_sorted = execute_quick_sort(arr)\n",
    "assert nums_quck_sorted == nums_sorted"
   ]
  },
  {
   "cell_type": "markdown",
   "id": "83a747ca-ea75-471d-8555-bbc167476598",
   "metadata": {},
   "source": [
    "### Method Answers"
   ]
  },
  {
   "cell_type": "code",
   "execution_count": 52,
   "id": "19cb1e1f-c334-45f5-91ba-6aae569302c0",
   "metadata": {},
   "outputs": [],
   "source": [
    "def bubble_sort(arr):\n",
    "    \"\"\"\n",
    "    swaps adjacent elements repeatedly if they are in wrong order;\n",
    "    each loop, the next largest element will be bubbled to the end (ascending sort)\n",
    "    \"\"\"\n",
    "    nums = arr.copy()\n",
    "    help_loop = 0\n",
    "    for i in range(len(nums)):\n",
    "        # print(f\"after loop {help_loop}, nums: {nums}\")\n",
    "        # help_loop+=1\n",
    "        for j in range(len(nums)-1):\n",
    "            if nums[j+1] < nums[j]:\n",
    "                a = nums[j+1]\n",
    "                nums[j+1] = nums[j]\n",
    "                nums[j] = a\n",
    "    return nums\n",
    "            \n",
    "    \n",
    "def selection_sort(arr):\n",
    "    \"\"\"\n",
    "    finds the next minimum element and put in right order;\n",
    "    each loop, the next smallest element will be bubbled to the front (ascending sort)\n",
    "    \"\"\"\n",
    "    nums = arr.copy()\n",
    "    largest_num = max(nums)\n",
    "    help_loop = 0\n",
    "    for i in range(len(nums)):\n",
    "        # print(f\"after loop {help_loop}, nums: {nums}\")\n",
    "        # help_loop+=1\n",
    "        smallest_so_far = largest_num\n",
    "        smallest_index = nums.index(largest_num)\n",
    "        for j in range(i,len(nums)):\n",
    "            if nums[j] < smallest_so_far:\n",
    "                smallest_so_far = nums[j]\n",
    "                smallest_index = j\n",
    "        a = nums[smallest_index]\n",
    "        nums[smallest_index] = nums[i]\n",
    "        nums[i] = a\n",
    "    return nums\n",
    "            \n",
    "            \n",
    "def insertion_sort(arr):\n",
    "    \"\"\"\n",
    "    builds the final sorted array (or list) one item at a time by comparisons\n",
    "    \"\"\"\n",
    "    nums = arr.copy()\n",
    "    for j in range(1,len(nums)):              # take out current element (starting at 1)\n",
    "        key = nums[j]\n",
    "        i = j-1                               # defined sorted list to be range(0,i)\n",
    "        while (i > -1) and (nums[i] > key):   # repeatedly move elements larger that key to the right\n",
    "            nums[i+1] = nums[i]               # stop when element in comparison is smaller than key\n",
    "            i-=1\n",
    "        nums[i+1] = key                       # insert element at empty slot (after moving other elements right)\n",
    "    return nums"
   ]
  },
  {
   "cell_type": "code",
   "execution_count": null,
   "id": "9952f903-2471-4d7c-b5c2-6f749f37bc76",
   "metadata": {
    "tags": []
   },
   "outputs": [],
   "source": [
    "def execute_merge_sort(arr):\n",
    "    \"\"\"\n",
    "    Divide and Conquer. Divides the array into halves iteratively\n",
    "    \"\"\"\n"
   ]
  },
  {
   "cell_type": "code",
   "execution_count": null,
   "id": "6a1d5def-b198-440a-bbde-9a2e94ea2614",
   "metadata": {},
   "outputs": [],
   "source": [
    "def execute_quick_sort(arr):\n",
    "    \"\"\"\n",
    "    Picks a pivot element & partitions the array around the picked pivot\n",
    "    - choose pivot and move to end of array\n",
    "    - find first item from left bigger than pivot\n",
    "    - find first item from right smaller than the pivot\n",
    "    * both items can't overlap\n",
    "    \"\"\""
   ]
  }
 ],
 "metadata": {
  "kernelspec": {
   "display_name": "Python 3 (ipykernel)",
   "language": "python",
   "name": "python3"
  },
  "language_info": {
   "codemirror_mode": {
    "name": "ipython",
    "version": 3
   },
   "file_extension": ".py",
   "mimetype": "text/x-python",
   "name": "python",
   "nbconvert_exporter": "python",
   "pygments_lexer": "ipython3",
   "version": "3.11.2"
  }
 },
 "nbformat": 4,
 "nbformat_minor": 5
}
